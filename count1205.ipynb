{
 "cells": [
  {
   "cell_type": "code",
   "execution_count": 1,
   "id": "33491e4b",
   "metadata": {},
   "outputs": [],
   "source": [
    "import pandas as pd\n",
    "df = pd.read_csv('dataset_review.csv')"
   ]
  },
  {
   "cell_type": "code",
   "execution_count": 26,
   "id": "3a0084ec",
   "metadata": {},
   "outputs": [
    {
     "name": "stdout",
     "output_type": "stream",
     "text": [
      "數值----出現次數\n",
      " 0     7038968\n",
      "1      958665\n",
      "2      296906\n",
      "3      126998\n",
      "4       66832\n",
      "5       39812\n",
      "6       25371\n",
      "7       17433\n",
      "8       12777\n",
      "9        9403\n",
      "10       7086\n",
      "11       5459\n",
      "12       4285\n",
      "13       3492\n",
      "14       2871\n",
      "15       2396\n",
      "16       2057\n",
      "17       1656\n",
      "18       1476\n",
      "19       1163\n",
      "Name: funny, dtype: int64\n",
      "--------------------------------------------------\n",
      "數值----出現次數\n",
      " 0     4758168\n",
      "1     1827011\n",
      "2      839327\n",
      "3      433797\n",
      "4      242723\n",
      "5      147582\n",
      "6       95333\n",
      "7       64456\n",
      "8       46308\n",
      "9       34071\n",
      "10      25761\n",
      "11      19563\n",
      "12      15718\n",
      "13      12815\n",
      "14      10129\n",
      "15       8337\n",
      "16       7077\n",
      "17       5888\n",
      "18       4800\n",
      "19       4139\n",
      "Name: useful, dtype: int64\n",
      "--------------------------------------------------\n",
      "數值----出現次數\n",
      " 0     6686980\n",
      "1     1206387\n",
      "2      364606\n",
      "3      145669\n",
      "4       71554\n",
      "5       41205\n",
      "6       26768\n",
      "7       18320\n",
      "8       13275\n",
      "9       10066\n",
      "10       7672\n",
      "11       6318\n",
      "12       5073\n",
      "13       4118\n",
      "14       3471\n",
      "15       2829\n",
      "16       2381\n",
      "17       1961\n",
      "18       1675\n",
      "19       1474\n",
      "Name: cool, dtype: int64\n",
      "--------------------------------------------------\n",
      "數值----出現次數\n",
      " 5.0    3814532\n",
      "4.0    1920037\n",
      "1.0    1262800\n",
      "3.0     926656\n",
      "2.0     711378\n",
      "Name: stars, dtype: int64\n"
     ]
    }
   ],
   "source": [
    "print(\"數值----出現次數\\n\",df['funny'].value_counts().head(20))\n",
    "print('-'*50)\n",
    "print(\"數值----出現次數\\n\",df['useful'].value_counts().head(20))\n",
    "print('-'*50)\n",
    "print(\"數值----出現次數\\n\",df['cool'].value_counts().head(20))\n",
    "print('-'*50)\n",
    "print(\"數值----出現次數\\n\",df['stars'].value_counts().head(20))"
   ]
  },
  {
   "cell_type": "code",
   "execution_count": null,
   "id": "ff8e2f0b",
   "metadata": {},
   "outputs": [],
   "source": []
  }
 ],
 "metadata": {
  "kernelspec": {
   "display_name": "Python 3 (ipykernel)",
   "language": "python",
   "name": "python3"
  },
  "language_info": {
   "codemirror_mode": {
    "name": "ipython",
    "version": 3
   },
   "file_extension": ".py",
   "mimetype": "text/x-python",
   "name": "python",
   "nbconvert_exporter": "python",
   "pygments_lexer": "ipython3",
   "version": "3.8.12"
  }
 },
 "nbformat": 4,
 "nbformat_minor": 5
}
