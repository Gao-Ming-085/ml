{
 "cells": [
  {
   "cell_type": "code",
   "execution_count": null,
   "id": "d62c2e0c",
   "metadata": {},
   "outputs": [],
   "source": [
    "import numpy as np\n",
    "import pandas as pd\n",
    "import os\n",
    "from sklearn.model_selection import train_test_split\n",
    "import tensorflow as tf"
   ]
  },
  {
   "cell_type": "code",
   "execution_count": null,
   "id": "859cee5e",
   "metadata": {},
   "outputs": [],
   "source": [
    "train_df = pd.read_csv('train1205.csv')\n",
    "test_df = pd.read_csv('val1205.csv')\n",
    "print(f\"Train shape: {train_df.shape}\")\n",
    "print(f\"Test shape: {test_df.shape}\")"
   ]
  },
  {
   "cell_type": "code",
   "execution_count": null,
   "id": "bd273c30",
   "metadata": {},
   "outputs": [],
   "source": [
    "train_df = train_df.dropna(subset=[\"review_text\",\"taget\"])\n",
    "test_df = test_df.dropna(subset=[\"review_text\"])"
   ]
  },
  {
   "cell_type": "code",
   "execution_count": null,
   "id": "919c97f8",
   "metadata": {},
   "outputs": [],
   "source": [
    "train_df = train_df.fillna(value={\"review_id\":\"_nan_\"})\n",
    "test_df = test_df.fillna(value={\"review_id\":\"_nan_\"})"
   ]
  },
  {
   "cell_type": "code",
   "execution_count": null,
   "id": "43406c04",
   "metadata": {},
   "outputs": [],
   "source": [
    "print(\"Shapes after NaN valus hadled\")\n",
    "print(f\"Train shape: {train_df.shape}\")\n",
    "print(f\"Test shape: {test_df.shape}\")"
   ]
  },
  {
   "cell_type": "code",
   "execution_count": null,
   "id": "de1a45f7",
   "metadata": {},
   "outputs": [],
   "source": [
    "train_df, val_df = train_test_split(train_df,\n",
    "                                    test_size=0.1,\n",
    "                                    random_state=2000)"
   ]
  },
  {
   "cell_type": "code",
   "execution_count": null,
   "id": "6a508c79",
   "metadata": {},
   "outputs": [],
   "source": [
    "training_sentences = list(train_df[\"review_text\"].values)\n",
    "val_sentences = val_df[\"review_text\"].values\n",
    "test_sentences = test_df[\"review_text\"].values"
   ]
  },
  {
   "cell_type": "code",
   "execution_count": null,
   "id": "c06100f2",
   "metadata": {},
   "outputs": [],
   "source": [
    "embed_size = 300\n",
    "max_features = 50000\n",
    "maxlen = 100\n",
    "tokenizer = tf.keras.preprocessing.text.Tokenizer(num_words=max_features, oov_token=\"<oov>\")\n",
    "tokenizer.fit_on_texts(training_sentences)\n",
    "\n",
    "X_train = tokenizer.texts_to_sequences(training_sentences)\n",
    "X_val = tokenizer.texts_to_sequences(val_sentences)\n",
    "X_test = tokenizer.texts_to_sequences(test_sentences)"
   ]
  },
  {
   "cell_type": "code",
   "execution_count": null,
   "id": "1d251708",
   "metadata": {},
   "outputs": [],
   "source": [
    "X_train = tf.keras.preprocessing.sequence.pad_sequences(X_train,\n",
    "                                                        maxlen=maxlen,\n",
    "                                                        padding=\"post\",\n",
    "                                                        truncating=\"post\")\n",
    "X_val = tf.keras.preprocessing.sequence.pad_sequences(X_val,\n",
    "                                                        maxlen=maxlen,\n",
    "                                                        padding=\"post\",\n",
    "                                                        truncating=\"post\")\n",
    "X_test = tf.keras.preprocessing.sequence.pad_sequences(X_test,\n",
    "                                                        maxlen=maxlen,\n",
    "                                                        padding=\"post\",\n",
    "                                                        truncating=\"post\")"
   ]
  },
  {
   "cell_type": "code",
   "execution_count": null,
   "id": "e9b6cb61",
   "metadata": {},
   "outputs": [],
   "source": [
    "y_train = train_df[\"taget\"].values\n",
    "y_val = val_df[\"taget\"].values"
   ]
  },
  {
   "cell_type": "code",
   "execution_count": null,
   "id": "bfc6712e",
   "metadata": {},
   "outputs": [],
   "source": [
    "inputs = tf.keras.layers.Input(shape=(maxlen,))\n",
    "x = tf.keras.layers.Embedding(max_features, embed_size)(inputs)\n",
    "x = tf.keras.layers.Bidirectional(tf.keras.layers.GRU(64, return_sequences=True))(x)\n",
    "x = tf.keras.layers.GlobalMaxPool1D()(x)\n",
    "x = tf.keras.layers.Dense(16, activation=\"relu\")(x)\n",
    "x = tf.keras.layers.Dropout(0.1)(x)\n",
    "outputs = tf.keras.layers.Dense(1, activation=\"sigmoid\")(x)\n",
    "\n",
    "model = tf.keras.models.Model(inputs=inputs, outputs=outputs)\n",
    "model.compile(loss=\"binary_crossentropy\", optimizer=\"adam\", metrics=[\"accuracy\"])\n",
    "model.summary()\n"
   ]
  },
  {
   "cell_type": "code",
   "execution_count": null,
   "id": "949839a7",
   "metadata": {},
   "outputs": [],
   "source": [
    "import time\n",
    "start = time.time()"
   ]
  },
  {
   "cell_type": "code",
   "execution_count": null,
   "id": "df9fb333",
   "metadata": {},
   "outputs": [],
   "source": [
    "hist = model.fit(X_train, y_train, batch_size=4096, epochs=1, validation_data=(X_val, y_val))\n",
    "y_pred = model.predict(X_test, batch_size=1024)\n",
    "print(time.time()-start)"
   ]
  },
  {
   "cell_type": "code",
   "execution_count": null,
   "id": "68a1eb1d",
   "metadata": {},
   "outputs": [],
   "source": [
    "y_te = (y_pred[:,0] > 0.5).astype(np.int_)\n",
    "submit_df = pd.DataFrame({\"review_id\": test_df[\"review_id\"], \"prediction\": y_te})\n",
    "submit_df.to_csv(\"test_output1205.csv\", index=False)"
   ]
  },
  {
   "cell_type": "code",
   "execution_count": null,
   "id": "290885db",
   "metadata": {},
   "outputs": [],
   "source": [
    "dftest = pd.read_csv('test_output1205.csv')\n",
    "dftest.head(20)"
   ]
  },
  {
   "cell_type": "code",
   "execution_count": null,
   "id": "161332dd",
   "metadata": {},
   "outputs": [],
   "source": []
  }
 ],
 "metadata": {
  "kernelspec": {
   "display_name": "Python 3 (ipykernel)",
   "language": "python",
   "name": "python3"
  },
  "language_info": {
   "codemirror_mode": {
    "name": "ipython",
    "version": 3
   },
   "file_extension": ".py",
   "mimetype": "text/x-python",
   "name": "python",
   "nbconvert_exporter": "python",
   "pygments_lexer": "ipython3",
   "version": "3.8.12"
  }
 },
 "nbformat": 4,
 "nbformat_minor": 5
}
