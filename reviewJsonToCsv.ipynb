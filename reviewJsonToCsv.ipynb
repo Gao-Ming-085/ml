{
 "cells": [
  {
   "cell_type": "code",
   "execution_count": 2,
   "id": "031b1051",
   "metadata": {},
   "outputs": [],
   "source": [
    "import pandas as pd\n",
    "import json"
   ]
  },
  {
   "cell_type": "code",
   "execution_count": 5,
   "id": "64b484e2",
   "metadata": {},
   "outputs": [
    {
     "data": {
      "text/plain": [
       "8635403"
      ]
     },
     "execution_count": 5,
     "metadata": {},
     "output_type": "execute_result"
    }
   ],
   "source": [
    "path = 'yelp_academic_dataset_review.json'\n",
    "reviewList700 = []\n",
    "reviewList100 = []\n",
    "reviewList635403 = []\n",
    "i = 0\n",
    "\n",
    "with open(path,encoding='utf-8') as f:\n",
    "    try:\n",
    "        while True:\n",
    "            line_data = f.readline()\n",
    "            \n",
    "            if line_data:\n",
    "                \n",
    "                if i < 7000000:\n",
    "                \n",
    "                    data1 = json.loads(line_data)\n",
    "                    reviewList700.append({\n",
    "                        'review_id' : data1['review_id'],\n",
    "                        'review_text' : data1['text'],\n",
    "                        'stars' : data1['stars'],\n",
    "                        'taget' : 1 if data1['stars'] > 3 else 0\n",
    "\n",
    "                    })\n",
    "                elif i < 8000000:\n",
    "                    data2 = json.loads(line_data)\n",
    "                    reviewList100.append({\n",
    "                        'review_id' : data2['review_id'],\n",
    "                        'review_text' : data2['text'],\n",
    "                        'stars' : data2['stars'],\n",
    "                        'taget' : 1 if data2['stars'] > 3 else 0\n",
    "                    })\n",
    "                elif i <= 8635403:\n",
    "                    data3 = json.loads(line_data)\n",
    "                    reviewList635403.append({\n",
    "                        'review_id' : data3['review_id'],\n",
    "                        'review_text' : data3['text'],\n",
    "                        'stars' : data3['stars'],\n",
    "                        'taget' : 1 if data3['stars'] > 3 else 0\n",
    "\n",
    "                    })\n",
    "                else:\n",
    "                    continue\n",
    "                i+=1\n",
    "            else:\n",
    "                break\n",
    "    except Exception as e:\n",
    "        f.close()\n",
    "        print(e)\n",
    "df1 = pd.DataFrame(reviewList700)\n",
    "df1.to_csv('train1205.csv', index=False)\n",
    "df2 = pd.DataFrame(reviewList100)\n",
    "df2.to_csv('val1205.csv', index=False)\n",
    "df3 = pd.DataFrame(reviewList635403)\n",
    "df3.to_csv('test1205.csv', index=False)\n",
    "i"
   ]
  },
  {
   "cell_type": "code",
   "execution_count": 4,
   "id": "ddce6312",
   "metadata": {},
   "outputs": [
    {
     "data": {
      "text/html": [
       "<div>\n",
       "<style scoped>\n",
       "    .dataframe tbody tr th:only-of-type {\n",
       "        vertical-align: middle;\n",
       "    }\n",
       "\n",
       "    .dataframe tbody tr th {\n",
       "        vertical-align: top;\n",
       "    }\n",
       "\n",
       "    .dataframe thead th {\n",
       "        text-align: right;\n",
       "    }\n",
       "</style>\n",
       "<table border=\"1\" class=\"dataframe\">\n",
       "  <thead>\n",
       "    <tr style=\"text-align: right;\">\n",
       "      <th></th>\n",
       "      <th>review_id</th>\n",
       "      <th>review_text</th>\n",
       "      <th>stars</th>\n",
       "      <th>taget</th>\n",
       "    </tr>\n",
       "  </thead>\n",
       "  <tbody>\n",
       "    <tr>\n",
       "      <th>0</th>\n",
       "      <td>5aL-Ss0XhLEH1TAdlECnhQ</td>\n",
       "      <td>My first time here! We were seated pretty quic...</td>\n",
       "      <td>3.0</td>\n",
       "      <td>0</td>\n",
       "    </tr>\n",
       "    <tr>\n",
       "      <th>1</th>\n",
       "      <td>THJuJ371DW5FKtuDQ0qMtQ</td>\n",
       "      <td>Just wanted to give a shout out to THE STEAM T...</td>\n",
       "      <td>5.0</td>\n",
       "      <td>1</td>\n",
       "    </tr>\n",
       "  </tbody>\n",
       "</table>\n",
       "</div>"
      ],
      "text/plain": [
       "                review_id                                        review_text  \\\n",
       "0  5aL-Ss0XhLEH1TAdlECnhQ  My first time here! We were seated pretty quic...   \n",
       "1  THJuJ371DW5FKtuDQ0qMtQ  Just wanted to give a shout out to THE STEAM T...   \n",
       "\n",
       "   stars  taget  \n",
       "0    3.0      0  \n",
       "1    5.0      1  "
      ]
     },
     "execution_count": 4,
     "metadata": {},
     "output_type": "execute_result"
    }
   ],
   "source": [
    "df1 = pd.read_csv('test1205.csv')\n",
    "df1.head(2)"
   ]
  }
 ],
 "metadata": {
  "kernelspec": {
   "display_name": "Python 3 (ipykernel)",
   "language": "python",
   "name": "python3"
  },
  "language_info": {
   "codemirror_mode": {
    "name": "ipython",
    "version": 3
   },
   "file_extension": ".py",
   "mimetype": "text/x-python",
   "name": "python",
   "nbconvert_exporter": "python",
   "pygments_lexer": "ipython3",
   "version": "3.8.12"
  }
 },
 "nbformat": 4,
 "nbformat_minor": 5
}
